{
 "cells": [
  {
   "cell_type": "code",
   "execution_count": 1,
   "metadata": {},
   "outputs": [],
   "source": [
    "import numpy as np\n",
    "import matplotlib.pyplot as plt"
   ]
  },
  {
   "cell_type": "code",
   "execution_count": 2,
   "metadata": {},
   "outputs": [],
   "source": [
    "np.set_printoptions(precision=2)"
   ]
  },
  {
   "cell_type": "code",
   "execution_count": 3,
   "metadata": {},
   "outputs": [],
   "source": [
    "X = np.random.rand(500, 50) + np.random.randn(500, 50)*0.2\n",
    "X[:,0] = 1."
   ]
  },
  {
   "cell_type": "code",
   "execution_count": 4,
   "metadata": {},
   "outputs": [
    {
     "name": "stdout",
     "output_type": "stream",
     "text": [
      "[ 2.14  0.   -6.52  0.    0.    3.19  5.76 -4.38 -5.11 -0.65 -4.13  5.62\n",
      " -6.8  10.07  0.   -1.76 -3.97 -7.88 -1.26  0.57 -4.26  6.86  0.    3.66\n",
      "  0.   -0.56  0.    0.   -4.55  0.    4.7  -0.72 -1.07  0.    2.39  0.\n",
      "  0.23  0.    0.54  0.    0.73  0.    0.    0.74  0.   -5.68 -4.11  1.03\n",
      "  0.   -2.38]\n"
     ]
    }
   ],
   "source": [
    "beta = np.random.randn(50)*5\n",
    "idx = np.random.randint(0, 50, size=20)\n",
    "beta[idx] = 0.\n",
    "print(beta)"
   ]
  },
  {
   "cell_type": "code",
   "execution_count": 5,
   "metadata": {},
   "outputs": [],
   "source": [
    "y = X.dot(beta) + np.random.randn(500)*10."
   ]
  },
  {
   "cell_type": "code",
   "execution_count": null,
   "metadata": {},
   "outputs": [],
   "source": []
  },
  {
   "cell_type": "markdown",
   "metadata": {},
   "source": [
    "## efficient forward stepwise"
   ]
  },
  {
   "cell_type": "code",
   "execution_count": 6,
   "metadata": {},
   "outputs": [],
   "source": [
    "def move_feature(unused_features, used_features, feature):\n",
    "    unused_features.remove(feature)\n",
    "    used_features.append(feature)\n",
    "\n",
    "def get_coeff_string(beta, feature):\n",
    "    if beta is not None:\n",
    "        coeff_string = f\" [true value: {beta[feature]:.2f}]\"\n",
    "    else:\n",
    "        coeff_string = \"\"\n",
    "    return coeff_string\n",
    "\n",
    "def print_rss_drop(rss_drop, feature, verbose_level):\n",
    "    if verbose_level > 2:\n",
    "        print(f\"    rss_drop for {feature}: {rss_drop:.2f}\")\n",
    "\n",
    "def forward_step(H, r, y, candidates, verbose_level):\n",
    "    X, unused_features = candidates\n",
    "    I_H = np.eye(len(H)) - H # I - H\n",
    "    r_y = 2*r - y\n",
    "\n",
    "    best_rss_drop = -1\n",
    "    best_features = -1\n",
    "    for feature in unused_features:\n",
    "        u = X[:,feature]\n",
    "        u_proj = I_H.dot(u)\n",
    "        dot1 = r_y.dot(u_proj)\n",
    "        dot2 = u.dot(r)\n",
    "        dot3 = u.dot(u_proj)\n",
    "        rss_drop = dot1 * dot2 / dot3\n",
    "        print_rss_drop(rss_drop, feature, verbose_level)\n",
    "        if rss_drop > best_rss_drop:\n",
    "            best_rss_drop = rss_drop\n",
    "            best_feature = feature\n",
    "    x = X[:,best_feature]\n",
    "    q = I_H.dot(x)\n",
    "    q_proj_mat = np.outer(q,q)/q.dot(q)\n",
    "    next_H = H + q_proj_mat\n",
    "    next_r = r - q_proj_mat.dot(y)\n",
    "    return next_H, next_r, best_feature\n",
    "\n",
    "def init_H_r(X, y):\n",
    "    u = X[:,0]\n",
    "    H = np.outer(u,u)/u.dot(u)\n",
    "    r = y - H.dot(y)\n",
    "    return H, r\n",
    "\n",
    "def print_step(step, verbose_level):\n",
    "    if verbose_level > 0:\n",
    "        pre = ''\n",
    "        if step > 0:\n",
    "            pre = '\\n'\n",
    "        print(f\"{pre}step {step}\")\n",
    "\n",
    "def print_feature(feature, beta, verbose_level):\n",
    "    if verbose_level > 0:\n",
    "        coeff_string = get_coeff_string(beta, feature)\n",
    "        if feature == 0:\n",
    "            intercept = ' (intercept)'\n",
    "        else:\n",
    "            intercept = ''\n",
    "        print(f\"  feature: {feature}{intercept}{coeff_string}\")\n",
    "\n",
    "def print_rss(rss, verbose_level):\n",
    "    if verbose_level > 1:\n",
    "        print(f\"  RSS: {rss:.2f}\")\n",
    "\n",
    "def forward_stepwise_regression_eff(X, y, beta=None, verbose_level=0):\n",
    "    N, p = X.shape\n",
    "    unused_features = list(range(p))\n",
    "    used_features = []\n",
    "    rss_list = []\n",
    "\n",
    "    print_step(0, verbose_level)\n",
    "    print_feature(0, beta, verbose_level)\n",
    "    move_feature(unused_features, used_features, 0)\n",
    "    H, r = init_H_r(X, y)\n",
    "    rss = r.dot(r)\n",
    "    rss_list.append(rss)\n",
    "    print_rss(rss, verbose_level)\n",
    "\n",
    "    for i in range(1, p):\n",
    "        print_step(i, verbose_level)\n",
    "\n",
    "        candidates = (X, unused_features)\n",
    "        H, r, best_feature = forward_step(H, r, y, candidates, verbose_level)\n",
    "        move_feature(unused_features, used_features, best_feature)\n",
    "        rss = r.dot(r)\n",
    "        rss_list.append(rss)\n",
    "\n",
    "        print_feature(best_feature, beta, verbose_level)\n",
    "        print_rss(rss, verbose_level)\n",
    "    return rss_list, used_features"
   ]
  },
  {
   "cell_type": "code",
   "execution_count": 7,
   "metadata": {
    "scrolled": false
   },
   "outputs": [
    {
     "name": "stdout",
     "output_type": "stream",
     "text": [
      "step 0\n",
      "  feature: 0 (intercept) [true value: 2.14]\n",
      "\n",
      "step 1\n",
      "  feature: 13 [true value: 10.07]\n",
      "\n",
      "step 2\n",
      "  feature: 45 [true value: -5.68]\n",
      "\n",
      "step 3\n",
      "  feature: 17 [true value: -7.88]\n",
      "\n",
      "step 4\n",
      "  feature: 16 [true value: -3.97]\n",
      "\n",
      "step 5\n",
      "  feature: 12 [true value: -6.80]\n",
      "\n",
      "step 6\n",
      "  feature: 23 [true value: 3.66]\n",
      "\n",
      "step 7\n",
      "  feature: 2 [true value: -6.52]\n",
      "\n",
      "step 8\n",
      "  feature: 21 [true value: 6.86]\n",
      "\n",
      "step 9\n",
      "  feature: 5 [true value: 3.19]\n",
      "\n",
      "step 10\n",
      "  feature: 20 [true value: -4.26]\n",
      "\n",
      "step 11\n",
      "  feature: 6 [true value: 5.76]\n",
      "\n",
      "step 12\n",
      "  feature: 11 [true value: 5.62]\n",
      "\n",
      "step 13\n",
      "  feature: 30 [true value: 4.70]\n",
      "\n",
      "step 14\n",
      "  feature: 28 [true value: -4.55]\n",
      "\n",
      "step 15\n",
      "  feature: 8 [true value: -5.11]\n",
      "\n",
      "step 16\n",
      "  feature: 47 [true value: 1.03]\n",
      "\n",
      "step 17\n",
      "  feature: 10 [true value: -4.13]\n",
      "\n",
      "step 18\n",
      "  feature: 18 [true value: -1.26]\n",
      "\n",
      "step 19\n",
      "  feature: 41 [true value: 0.00]\n",
      "\n",
      "step 20\n",
      "  feature: 3 [true value: 0.00]\n",
      "\n",
      "step 21\n",
      "  feature: 31 [true value: -0.72]\n",
      "\n",
      "step 22\n",
      "  feature: 4 [true value: 0.00]\n",
      "\n",
      "step 23\n",
      "  feature: 7 [true value: -4.38]\n",
      "\n",
      "step 24\n",
      "  feature: 29 [true value: 0.00]\n",
      "\n",
      "step 25\n",
      "  feature: 46 [true value: -4.11]\n",
      "\n",
      "step 26\n",
      "  feature: 35 [true value: 0.00]\n",
      "\n",
      "step 27\n",
      "  feature: 49 [true value: -2.38]\n",
      "\n",
      "step 28\n",
      "  feature: 14 [true value: 0.00]\n",
      "\n",
      "step 29\n",
      "  feature: 9 [true value: -0.65]\n",
      "\n",
      "step 30\n",
      "  feature: 27 [true value: 0.00]\n",
      "\n",
      "step 31\n",
      "  feature: 1 [true value: 0.00]\n",
      "\n",
      "step 32\n",
      "  feature: 33 [true value: 0.00]\n",
      "\n",
      "step 33\n",
      "  feature: 34 [true value: 2.39]\n",
      "\n",
      "step 34\n",
      "  feature: 19 [true value: 0.57]\n",
      "\n",
      "step 35\n",
      "  feature: 42 [true value: 0.00]\n",
      "\n",
      "step 36\n",
      "  feature: 26 [true value: 0.00]\n",
      "\n",
      "step 37\n",
      "  feature: 15 [true value: -1.76]\n",
      "\n",
      "step 38\n",
      "  feature: 25 [true value: -0.56]\n",
      "\n",
      "step 39\n",
      "  feature: 32 [true value: -1.07]\n",
      "\n",
      "step 40\n",
      "  feature: 39 [true value: 0.00]\n",
      "\n",
      "step 41\n",
      "  feature: 37 [true value: 0.00]\n",
      "\n",
      "step 42\n",
      "  feature: 48 [true value: 0.00]\n",
      "\n",
      "step 43\n",
      "  feature: 38 [true value: 0.54]\n",
      "\n",
      "step 44\n",
      "  feature: 40 [true value: 0.73]\n",
      "\n",
      "step 45\n",
      "  feature: 44 [true value: 0.00]\n",
      "\n",
      "step 46\n",
      "  feature: 22 [true value: 0.00]\n",
      "\n",
      "step 47\n",
      "  feature: 36 [true value: 0.23]\n",
      "\n",
      "step 48\n",
      "  feature: 43 [true value: 0.74]\n",
      "\n",
      "step 49\n",
      "  feature: 24 [true value: 0.00]\n"
     ]
    }
   ],
   "source": [
    "rss_list, features = forward_stepwise_regression_eff(X, y, beta, verbose_level=1)"
   ]
  },
  {
   "cell_type": "code",
   "execution_count": 8,
   "metadata": {},
   "outputs": [
    {
     "data": {
      "text/plain": [
       "[0, 13, 45, 17, 16, 12, 23, 2, 21, 5, 20, 6, 11, 30, 28]"
      ]
     },
     "execution_count": 8,
     "metadata": {},
     "output_type": "execute_result"
    }
   ],
   "source": [
    "features[:15]"
   ]
  },
  {
   "cell_type": "code",
   "execution_count": 9,
   "metadata": {},
   "outputs": [
    {
     "data": {
      "text/plain": [
       "0.5854503284128115"
      ]
     },
     "execution_count": 9,
     "metadata": {},
     "output_type": "execute_result"
    }
   ],
   "source": [
    "rss_list[14] / rss_list[0]"
   ]
  },
  {
   "cell_type": "code",
   "execution_count": 10,
   "metadata": {},
   "outputs": [
    {
     "data": {
      "text/plain": [
       "<matplotlib.collections.PathCollection at 0x7f3f4f32a1d0>"
      ]
     },
     "execution_count": 10,
     "metadata": {},
     "output_type": "execute_result"
    },
    {
     "data": {
      "image/png": "[encoded data removed]",
      "text/plain": [
       "<Figure size 576x576 with 1 Axes>"
      ]
     },
     "metadata": {
      "needs_background": "light"
     },
     "output_type": "display_data"
    }
   ],
   "source": [
    "plt.figure(figsize=(8,8))\n",
    "plt.scatter(range(len(rss_list)), rss_list)"
   ]
  },
  {
   "cell_type": "code",
   "execution_count": null,
   "metadata": {},
   "outputs": [],
   "source": []
  },
  {
   "cell_type": "markdown",
   "metadata": {},
   "source": [
    "## with Q, R"
   ]
  },
  {
   "cell_type": "code",
   "execution_count": 11,
   "metadata": {},
   "outputs": [],
   "source": [
    "def step(Q, R, X, y, feature):\n",
    "    H = Q.dot(Q.T)\n",
    "    feature_vec = X[:,feature]\n",
    "    feature_vec_sign = feature_vec - H.dot(feature_vec)\n",
    "    alpha = np.linalg.norm(feature_vec_sign)\n",
    "    feature_vec_sign /= alpha\n",
    "    R_next = np.column_stack([np.row_stack([R, np.zeros(R.shape[1])]),\n",
    "                              np.concatenate([Q.T.dot(feature_vec), [alpha]])])\n",
    "    Q_next = np.column_stack([Q, feature_vec_sign])\n",
    "    H_next = Q_next.dot(Q_next.T)\n",
    "    y_hat = H_next.dot(y)\n",
    "    r = y - y_hat\n",
    "    rss = np.linalg.norm(r)**2\n",
    "    return Q_next, R_next, rss\n",
    "\n",
    "def move_feature(unused_features, used_features, feature):\n",
    "    unused_features.remove(feature)\n",
    "    used_features.append(feature)\n",
    "\n",
    "def init_QR_rss(X, y):\n",
    "    f = X[:,0]\n",
    "    alpha = np.linalg.norm(f)\n",
    "    Q = X[:, 0:1] / alpha\n",
    "    R = np.array([[alpha]])\n",
    "    H = Q.dot(Q.T)\n",
    "    y_hat = H.dot(y)\n",
    "    r = y - y_hat\n",
    "    rss = np.linalg.norm(r)**2\n",
    "    return Q, R, rss\n",
    "\n",
    "def get_coeff_string(beta, feature):\n",
    "    if beta is not None:\n",
    "        coeff_string = f\" [true value: {beta[feature]:.2f}]\"\n",
    "    else:\n",
    "        coeff_string = \"\"\n",
    "    return coeff_string\n",
    "\n",
    "def forward_stepwise_regression(X, y, beta=None, verbose_level=0):\n",
    "    N, p = X.shape\n",
    "    unused_features = list(range(p))\n",
    "    used_features = []\n",
    "    rss_list = []\n",
    "\n",
    "    print_step(0, verbose_level)\n",
    "    coeff_string = get_coeff_string(beta, 0)\n",
    "    print_feature(0, beta, verbose_level)\n",
    "    move_feature(unused_features, used_features, 0)\n",
    "    Q, R, rss = init_QR_rss(X, y)\n",
    "    rss_list.append(rss)\n",
    "    print_rss(rss, verbose_level)\n",
    "\n",
    "    for i in range(1, p):\n",
    "        print_step(i, verbose_level)\n",
    "\n",
    "        best_rss_drop = -1\n",
    "        best_feature = -1\n",
    "        for feature in unused_features:\n",
    "            _, _, rss_ = step(Q, R, X, y, feature)\n",
    "            rss_drop = rss - rss_\n",
    "            print_rss_drop(rss_drop, feature, verbose_level)\n",
    "            if rss_drop > best_rss_drop:\n",
    "                best_rss_drop = rss_drop\n",
    "                best_feature = feature\n",
    "        move_feature(unused_features, used_features, best_feature)\n",
    "        Q, R, rss = step(Q, R, X, y, best_feature)\n",
    "        rss_list.append(rss)\n",
    "        coeff_string = get_coeff_string(beta, best_feature)\n",
    "        print_feature(best_feature, beta, verbose_level)\n",
    "        print_rss(rss, verbose_level)\n",
    "    return rss_list, used_features"
   ]
  },
  {
   "cell_type": "code",
   "execution_count": 12,
   "metadata": {
    "scrolled": false
   },
   "outputs": [
    {
     "name": "stdout",
     "output_type": "stream",
     "text": [
      "step 0\n",
      "  feature: 0 (intercept) [true value: 2.14]\n",
      "\n",
      "step 1\n",
      "  feature: 13 [true value: 10.07]\n",
      "\n",
      "step 2\n",
      "  feature: 45 [true value: -5.68]\n",
      "\n",
      "step 3\n",
      "  feature: 17 [true value: -7.88]\n",
      "\n",
      "step 4\n",
      "  feature: 16 [true value: -3.97]\n",
      "\n",
      "step 5\n",
      "  feature: 12 [true value: -6.80]\n",
      "\n",
      "step 6\n",
      "  feature: 23 [true value: 3.66]\n",
      "\n",
      "step 7\n",
      "  feature: 2 [true value: -6.52]\n",
      "\n",
      "step 8\n",
      "  feature: 21 [true value: 6.86]\n",
      "\n",
      "step 9\n",
      "  feature: 5 [true value: 3.19]\n",
      "\n",
      "step 10\n",
      "  feature: 20 [true value: -4.26]\n",
      "\n",
      "step 11\n",
      "  feature: 6 [true value: 5.76]\n",
      "\n",
      "step 12\n",
      "  feature: 11 [true value: 5.62]\n",
      "\n",
      "step 13\n",
      "  feature: 30 [true value: 4.70]\n",
      "\n",
      "step 14\n",
      "  feature: 28 [true value: -4.55]\n",
      "\n",
      "step 15\n",
      "  feature: 8 [true value: -5.11]\n",
      "\n",
      "step 16\n",
      "  feature: 47 [true value: 1.03]\n",
      "\n",
      "step 17\n",
      "  feature: 10 [true value: -4.13]\n",
      "\n",
      "step 18\n",
      "  feature: 18 [true value: -1.26]\n",
      "\n",
      "step 19\n",
      "  feature: 41 [true value: 0.00]\n",
      "\n",
      "step 20\n",
      "  feature: 3 [true value: 0.00]\n",
      "\n",
      "step 21\n",
      "  feature: 31 [true value: -0.72]\n",
      "\n",
      "step 22\n",
      "  feature: 4 [true value: 0.00]\n",
      "\n",
      "step 23\n",
      "  feature: 7 [true value: -4.38]\n",
      "\n",
      "step 24\n",
      "  feature: 29 [true value: 0.00]\n",
      "\n",
      "step 25\n",
      "  feature: 46 [true value: -4.11]\n",
      "\n",
      "step 26\n",
      "  feature: 35 [true value: 0.00]\n",
      "\n",
      "step 27\n",
      "  feature: 49 [true value: -2.38]\n",
      "\n",
      "step 28\n",
      "  feature: 14 [true value: 0.00]\n",
      "\n",
      "step 29\n",
      "  feature: 9 [true value: -0.65]\n",
      "\n",
      "step 30\n",
      "  feature: 27 [true value: 0.00]\n",
      "\n",
      "step 31\n",
      "  feature: 1 [true value: 0.00]\n",
      "\n",
      "step 32\n",
      "  feature: 33 [true value: 0.00]\n",
      "\n",
      "step 33\n",
      "  feature: 34 [true value: 2.39]\n",
      "\n",
      "step 34\n",
      "  feature: 19 [true value: 0.57]\n",
      "\n",
      "step 35\n",
      "  feature: 42 [true value: 0.00]\n",
      "\n",
      "step 36\n",
      "  feature: 26 [true value: 0.00]\n",
      "\n",
      "step 37\n",
      "  feature: 15 [true value: -1.76]\n",
      "\n",
      "step 38\n",
      "  feature: 25 [true value: -0.56]\n",
      "\n",
      "step 39\n",
      "  feature: 32 [true value: -1.07]\n",
      "\n",
      "step 40\n",
      "  feature: 39 [true value: 0.00]\n",
      "\n",
      "step 41\n",
      "  feature: 37 [true value: 0.00]\n",
      "\n",
      "step 42\n",
      "  feature: 48 [true value: 0.00]\n",
      "\n",
      "step 43\n",
      "  feature: 38 [true value: 0.54]\n",
      "\n",
      "step 44\n",
      "  feature: 40 [true value: 0.73]\n",
      "\n",
      "step 45\n",
      "  feature: 44 [true value: 0.00]\n",
      "\n",
      "step 46\n",
      "  feature: 22 [true value: 0.00]\n",
      "\n",
      "step 47\n",
      "  feature: 36 [true value: 0.23]\n",
      "\n",
      "step 48\n",
      "  feature: 43 [true value: 0.74]\n",
      "\n",
      "step 49\n",
      "  feature: 24 [true value: 0.00]\n"
     ]
    }
   ],
   "source": [
    "rss_list, features = forward_stepwise_regression(X, y, beta, verbose_level=1)"
   ]
  },
  {
   "cell_type": "code",
   "execution_count": 13,
   "metadata": {},
   "outputs": [
    {
     "data": {
      "text/plain": [
       "[0, 13, 45, 17, 16, 12, 23, 2, 21, 5, 20, 6, 11, 30, 28]"
      ]
     },
     "execution_count": 13,
     "metadata": {},
     "output_type": "execute_result"
    }
   ],
   "source": [
    "features[:15]"
   ]
  },
  {
   "cell_type": "code",
   "execution_count": 14,
   "metadata": {},
   "outputs": [
    {
     "data": {
      "text/plain": [
       "0.5854503284128114"
      ]
     },
     "execution_count": 14,
     "metadata": {},
     "output_type": "execute_result"
    }
   ],
   "source": [
    "rss_list[14] / rss_list[0]"
   ]
  },
  {
   "cell_type": "code",
   "execution_count": 15,
   "metadata": {},
   "outputs": [
    {
     "data": {
      "text/plain": [
       "<matplotlib.collections.PathCollection at 0x7f3f4f29dd90>"
      ]
     },
     "execution_count": 15,
     "metadata": {},
     "output_type": "execute_result"
    },
    {
     "data": {
      "image/png": "[encoded data removed]",
      "text/plain": [
       "<Figure size 576x576 with 1 Axes>"
      ]
     },
     "metadata": {
      "needs_background": "light"
     },
     "output_type": "display_data"
    }
   ],
   "source": [
    "plt.figure(figsize=(8,8))\n",
    "plt.scatter(range(len(rss_list)), rss_list)"
   ]
  },
  {
   "cell_type": "code",
   "execution_count": null,
   "metadata": {},
   "outputs": [],
   "source": []
  },
  {
   "cell_type": "code",
   "execution_count": null,
   "metadata": {},
   "outputs": [],
   "source": []
  },
  {
   "cell_type": "code",
   "execution_count": null,
   "metadata": {},
   "outputs": [],
   "source": []
  }
 ],
 "metadata": {
  "kernelspec": {
   "display_name": "Python 3",
   "language": "python",
   "name": "python3"
  },
  "language_info": {
   "codemirror_mode": {
    "name": "ipython",
    "version": 3
   },
   "file_extension": ".py",
   "mimetype": "text/x-python",
   "name": "python",
   "nbconvert_exporter": "python",
   "pygments_lexer": "ipython3",
   "version": "3.7.4"
  }
 },
 "nbformat": 4,
 "nbformat_minor": 2
}
