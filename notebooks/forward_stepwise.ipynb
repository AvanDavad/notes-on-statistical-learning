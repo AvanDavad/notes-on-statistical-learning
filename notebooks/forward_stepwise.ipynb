{
 "cells": [
  {
   "cell_type": "code",
   "execution_count": 1,
   "metadata": {},
   "outputs": [],
   "source": [
    "import numpy as np\n",
    "import matplotlib.pyplot as plt"
   ]
  },
  {
   "cell_type": "code",
   "execution_count": 2,
   "metadata": {},
   "outputs": [],
   "source": [
    "np.set_printoptions(precision=2)"
   ]
  },
  {
   "cell_type": "code",
   "execution_count": 3,
   "metadata": {},
   "outputs": [],
   "source": [
    "X = np.random.rand(500, 50) + np.random.randn(500, 50)*0.2\n",
    "X[:,0] = 1."
   ]
  },
  {
   "cell_type": "code",
   "execution_count": 4,
   "metadata": {},
   "outputs": [
    {
     "name": "stdout",
     "output_type": "stream",
     "text": [
      "[  0.     6.96   0.     0.     0.06  -8.22  -3.59  -7.49  -0.49  -8.97\n",
      "   0.29  -6.04  -8.75   2.86   0.     0.   -10.42   0.     0.2   -2.14\n",
      "  -0.08   1.47   0.    -5.14   0.    -6.95   2.47   0.     0.     0.\n",
      "   0.    10.09  -8.18  -1.79   0.     8.47   0.     3.7   -0.33   0.\n",
      "  -2.98   2.84  -2.57  -1.32   0.     6.8   -4.23   2.53  -3.02   0.  ]\n"
     ]
    }
   ],
   "source": [
    "beta = np.random.randn(50)*5\n",
    "idx = np.random.randint(0, 50, size=20)\n",
    "beta[idx] = 0.\n",
    "print(beta)"
   ]
  },
  {
   "cell_type": "code",
   "execution_count": 5,
   "metadata": {},
   "outputs": [],
   "source": [
    "y = X.dot(beta) + np.random.randn(500)*10."
   ]
  },
  {
   "cell_type": "code",
   "execution_count": 6,
   "metadata": {},
   "outputs": [],
   "source": [
    "def step(Q, R, X, y, feature):\n",
    "    H = Q.dot(Q.T)\n",
    "    feature_vec = X[:,feature]\n",
    "    feature_vec_sign = feature_vec - H.dot(feature_vec)\n",
    "    alpha = np.linalg.norm(feature_vec_sign)\n",
    "    feature_vec_sign /= alpha\n",
    "    R_next = np.column_stack([np.row_stack([R, np.zeros(R.shape[1])]),\n",
    "                              np.concatenate([Q.T.dot(feature_vec), [alpha]])])\n",
    "    Q_next = np.column_stack([Q, feature_vec_sign])\n",
    "    H_next = Q_next.dot(Q_next.T)\n",
    "    y_hat = H_next.dot(y)\n",
    "    r = y - y_hat\n",
    "    rss = np.linalg.norm(r)\n",
    "    return Q_next, R_next, rss\n",
    "\n",
    "def move_feature(unused_features, used_features, feature):\n",
    "    unused_features.remove(feature)\n",
    "    used_features.append(feature)\n",
    "\n",
    "def init_QR_rss(X, y):\n",
    "    f = X[:,0]\n",
    "    alpha = np.linalg.norm(f)\n",
    "    Q = X[:, 0:1] / alpha\n",
    "    R = np.array([[alpha]])\n",
    "    H = Q.dot(Q.T)\n",
    "    y_hat = H.dot(y)\n",
    "    r = y - y_hat\n",
    "    rss = np.linalg.norm(r)\n",
    "    return Q, R, rss\n",
    "\n",
    "def get_coeff_string(beta, feature):\n",
    "    if beta is not None:\n",
    "        coeff_string = f\" [true value: {beta[feature]:.2f}]\"\n",
    "    else:\n",
    "        coeff_string = \"\"\n",
    "    return coeff_string\n",
    "\n",
    "def forward_stepwise_regression(X, y, beta=None):\n",
    "    N, p = X.shape\n",
    "    unused_features = list(range(p))\n",
    "    used_features = []\n",
    "    rss_list = []\n",
    "\n",
    "    print(\"step 0.\")\n",
    "    coeff_string = get_coeff_string(beta, 0)\n",
    "    print(f\"  feature: 0 (intercept){coeff_string}\")\n",
    "    move_feature(unused_features, used_features, 0)\n",
    "    Q, R, rss = init_QR_rss(X, y)\n",
    "    rss_list.append(rss)\n",
    "    print(f\"  RSS: {rss}\")\n",
    "    for i in range(1, p):\n",
    "        print(f\"step {i}.\")\n",
    "        best_rss_drop = -1\n",
    "        best_feature = -1\n",
    "        for feature in unused_features:\n",
    "            _, _, rss_ = step(Q, R, X, y, feature)\n",
    "            rss_drop = rss - rss_\n",
    "            if rss_drop > best_rss_drop:\n",
    "                best_rss_drop = rss_drop\n",
    "                best_feature = feature\n",
    "        move_feature(unused_features, used_features, best_feature)\n",
    "        Q, R, rss = step(Q, R, X, y, best_feature)\n",
    "        rss_list.append(rss)\n",
    "        coeff_string = get_coeff_string(beta, best_feature)\n",
    "        print(f\"  feature: {best_feature}{coeff_string}\")\n",
    "        print(f\"  RSS: {rss}\")\n",
    "    return rss_list"
   ]
  },
  {
   "cell_type": "code",
   "execution_count": 7,
   "metadata": {},
   "outputs": [
    {
     "name": "stdout",
     "output_type": "stream",
     "text": [
      "step 0.\n",
      "  feature: 0 (intercept) [true value: 0.00]\n",
      "  RSS: 324.3850739629595\n",
      "step 1.\n",
      "  feature: 31 [true value: 10.09]\n",
      "  RSS: 308.3578163412387\n",
      "step 2.\n",
      "  feature: 9 [true value: -8.97]\n",
      "  RSS: 297.7647029696203\n",
      "step 3.\n",
      "  feature: 5 [true value: -8.22]\n",
      "  RSS: 289.50252806531734\n",
      "step 4.\n",
      "  feature: 16 [true value: -10.42]\n",
      "  RSS: 281.9550513753176\n",
      "step 5.\n",
      "  feature: 25 [true value: -6.95]\n",
      "  RSS: 274.48906002507954\n",
      "step 6.\n",
      "  feature: 35 [true value: 8.47]\n",
      "  RSS: 267.6640569540273\n",
      "step 7.\n",
      "  feature: 45 [true value: 6.80]\n",
      "  RSS: 260.71253507822195\n",
      "step 8.\n",
      "  feature: 12 [true value: -8.75]\n",
      "  RSS: 254.76686052333199\n",
      "step 9.\n",
      "  feature: 1 [true value: 6.96]\n",
      "  RSS: 248.92662146696998\n",
      "step 10.\n",
      "  feature: 11 [true value: -6.04]\n",
      "  RSS: 244.42442404725423\n",
      "step 11.\n",
      "  feature: 32 [true value: -8.18]\n",
      "  RSS: 240.04920122463906\n",
      "step 12.\n",
      "  feature: 19 [true value: -2.14]\n",
      "  RSS: 235.63177211550163\n",
      "step 13.\n",
      "  feature: 7 [true value: -7.49]\n",
      "  RSS: 231.2936076017289\n",
      "step 14.\n",
      "  feature: 46 [true value: -4.23]\n",
      "  RSS: 228.85139884063167\n",
      "step 15.\n",
      "  feature: 6 [true value: -3.59]\n",
      "  RSS: 226.80537425771905\n",
      "step 16.\n",
      "  feature: 37 [true value: 3.70]\n",
      "  RSS: 224.58412437879292\n",
      "step 17.\n",
      "  feature: 2 [true value: 0.00]\n",
      "  RSS: 222.88341519338474\n",
      "step 18.\n",
      "  feature: 23 [true value: -5.14]\n",
      "  RSS: 221.44788026939412\n",
      "step 19.\n",
      "  feature: 40 [true value: -2.98]\n",
      "  RSS: 220.2827543946342\n",
      "step 20.\n",
      "  feature: 42 [true value: -2.57]\n",
      "  RSS: 219.2021337087081\n",
      "step 21.\n",
      "  feature: 17 [true value: 0.00]\n",
      "  RSS: 218.25805532400753\n",
      "step 22.\n",
      "  feature: 48 [true value: -3.02]\n",
      "  RSS: 217.4397124440945\n",
      "step 23.\n",
      "  feature: 13 [true value: 2.86]\n",
      "  RSS: 216.60445770665754\n",
      "step 24.\n",
      "  feature: 49 [true value: 0.00]\n",
      "  RSS: 215.9108731008181\n",
      "step 25.\n",
      "  feature: 47 [true value: 2.53]\n",
      "  RSS: 215.3062977650643\n",
      "step 26.\n",
      "  feature: 26 [true value: 2.47]\n",
      "  RSS: 214.76707503125277\n",
      "step 27.\n",
      "  feature: 34 [true value: 0.00]\n",
      "  RSS: 214.227124999051\n",
      "step 28.\n",
      "  feature: 21 [true value: 1.47]\n",
      "  RSS: 213.77130916847847\n",
      "step 29.\n",
      "  feature: 43 [true value: -1.32]\n",
      "  RSS: 213.38426166203513\n",
      "step 30.\n",
      "  feature: 27 [true value: 0.00]\n",
      "  RSS: 213.02148759545858\n",
      "step 31.\n",
      "  feature: 20 [true value: -0.08]\n",
      "  RSS: 212.67574088573855\n",
      "step 32.\n",
      "  feature: 4 [true value: 0.06]\n",
      "  RSS: 212.37213846394047\n",
      "step 33.\n",
      "  feature: 18 [true value: 0.20]\n",
      "  RSS: 212.06604641488502\n",
      "step 34.\n",
      "  feature: 15 [true value: 0.00]\n",
      "  RSS: 211.87988572268787\n",
      "step 35.\n",
      "  feature: 24 [true value: 0.00]\n",
      "  RSS: 211.67899189419867\n",
      "step 36.\n",
      "  feature: 10 [true value: 0.29]\n",
      "  RSS: 211.52212202545485\n",
      "step 37.\n",
      "  feature: 22 [true value: 0.00]\n",
      "  RSS: 211.41555418679604\n",
      "step 38.\n",
      "  feature: 14 [true value: 0.00]\n",
      "  RSS: 211.3066808808666\n",
      "step 39.\n",
      "  feature: 44 [true value: 0.00]\n",
      "  RSS: 211.19934041374933\n",
      "step 40.\n",
      "  feature: 36 [true value: 0.00]\n",
      "  RSS: 211.10006179122155\n",
      "step 41.\n",
      "  feature: 28 [true value: 0.00]\n",
      "  RSS: 211.03022144109542\n",
      "step 42.\n",
      "  feature: 29 [true value: 0.00]\n",
      "  RSS: 210.9996489477372\n",
      "step 43.\n",
      "  feature: 41 [true value: 2.84]\n",
      "  RSS: 210.9747850456164\n",
      "step 44.\n",
      "  feature: 8 [true value: -0.49]\n",
      "  RSS: 210.9460927051651\n",
      "step 45.\n",
      "  feature: 33 [true value: -1.79]\n",
      "  RSS: 210.92992446566964\n",
      "step 46.\n",
      "  feature: 39 [true value: 0.00]\n",
      "  RSS: 210.9133387796942\n",
      "step 47.\n",
      "  feature: 30 [true value: 0.00]\n",
      "  RSS: 210.90748301943637\n",
      "step 48.\n",
      "  feature: 38 [true value: -0.33]\n",
      "  RSS: 210.905394442764\n",
      "step 49.\n",
      "  feature: 3 [true value: 0.00]\n",
      "  RSS: 210.9052418335069\n"
     ]
    }
   ],
   "source": [
    "rss_list = forward_stepwise_regression(X, y, beta)"
   ]
  },
  {
   "cell_type": "code",
   "execution_count": 8,
   "metadata": {},
   "outputs": [
    {
     "data": {
      "text/plain": [
       "<matplotlib.collections.PathCollection at 0x7fc1505668d0>"
      ]
     },
     "execution_count": 8,
     "metadata": {},
     "output_type": "execute_result"
    },
    {
     "data": {
      "image/png": "[encoded data removed]",
      "text/plain": [
       "<Figure size 576x576 with 1 Axes>"
      ]
     },
     "metadata": {
      "needs_background": "light"
     },
     "output_type": "display_data"
    }
   ],
   "source": [
    "plt.figure(figsize=(8,8))\n",
    "plt.scatter(range(len(rss_list)), rss_list)"
   ]
  },
  {
   "cell_type": "code",
   "execution_count": null,
   "metadata": {},
   "outputs": [],
   "source": []
  },
  {
   "cell_type": "code",
   "execution_count": null,
   "metadata": {},
   "outputs": [],
   "source": []
  }
 ],
 "metadata": {
  "kernelspec": {
   "display_name": "Python 3",
   "language": "python",
   "name": "python3"
  },
  "language_info": {
   "codemirror_mode": {
    "name": "ipython",
    "version": 3
   },
   "file_extension": ".py",
   "mimetype": "text/x-python",
   "name": "python",
   "nbconvert_exporter": "python",
   "pygments_lexer": "ipython3",
   "version": "3.7.4"
  }
 },
 "nbformat": 4,
 "nbformat_minor": 2
}
