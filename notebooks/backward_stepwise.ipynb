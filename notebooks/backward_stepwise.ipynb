{
 "cells": [
  {
   "cell_type": "code",
   "execution_count": 1,
   "metadata": {},
   "outputs": [],
   "source": [
    "import numpy as np\n",
    "import matplotlib.pyplot as plt"
   ]
  },
  {
   "cell_type": "code",
   "execution_count": 2,
   "metadata": {},
   "outputs": [],
   "source": [
    "np.set_printoptions(precision=2)"
   ]
  },
  {
   "cell_type": "code",
   "execution_count": 3,
   "metadata": {},
   "outputs": [],
   "source": [
    "X = np.random.rand(500, 50) + np.random.randn(500, 50)*0.2\n",
    "X[:,0] = 1."
   ]
  },
  {
   "cell_type": "code",
   "execution_count": 4,
   "metadata": {},
   "outputs": [
    {
     "name": "stdout",
     "output_type": "stream",
     "text": [
      "[  0.     0.     0.    -4.97   0.     0.    -0.87   0.     0.     7.01\n",
      "  -3.77   0.     0.18  -6.97 -11.2    8.87  -1.48  -1.46   0.    -4.28\n",
      "   1.92  -6.74   0.82  -0.64   0.    -0.95   5.63  -5.73   0.27   0.\n",
      "   2.52   0.    -4.52   0.5  -11.85   1.47   6.13  -1.99   2.92   0.\n",
      "   2.26   0.     0.    -1.23   2.22   0.    -3.73  -5.32   0.    -2.45]\n"
     ]
    }
   ],
   "source": [
    "beta = np.random.randn(50)*5\n",
    "idx = np.random.randint(0, 50, size=20)\n",
    "beta[idx] = 0.\n",
    "print(beta)"
   ]
  },
  {
   "cell_type": "code",
   "execution_count": 5,
   "metadata": {},
   "outputs": [],
   "source": [
    "y = X.dot(beta) + np.random.randn(500)*10."
   ]
  },
  {
   "cell_type": "code",
   "execution_count": null,
   "metadata": {},
   "outputs": [],
   "source": []
  },
  {
   "cell_type": "markdown",
   "metadata": {},
   "source": [
    "## backward stepwise regression"
   ]
  },
  {
   "cell_type": "code",
   "execution_count": 6,
   "metadata": {},
   "outputs": [],
   "source": [
    "def move_feature(undropped_features, dropped_features, feature):\n",
    "    undropped_features.remove(feature)\n",
    "    dropped_features.append(feature)\n",
    "\n",
    "def backward_step(X, y, undropped_features, verbose_level):\n",
    "    X = np.column_stack([X[:,i] for i in undropped_features])\n",
    "    A = np.linalg.inv(X.T.dot(X))\n",
    "    H = X.dot(A).dot(X.T)\n",
    "    r = y - H.dot(y)\n",
    "    left_vec = X.T.dot(2*r + y)\n",
    "    right_vec = X.T.dot(y)\n",
    "\n",
    "    min_dRSS = np.inf\n",
    "    best_i = -1\n",
    "    for i, drop_feature in enumerate(undropped_features):\n",
    "        if i==0:\n",
    "            continue\n",
    "        b = A[:,i]\n",
    "        v = A[i,i]\n",
    "        dRSS = (left_vec.dot(b)) * right_vec.dot(b) / v\n",
    "        if dRSS < min_dRSS:\n",
    "            min_dRSS = dRSS\n",
    "            best_i = i\n",
    "    return undropped_features[best_i], min_dRSS\n",
    "    \n",
    "\n",
    "def backward_stepwise_regression(X, y, beta=None, verbose_level=0):\n",
    "    N, p = X.shape\n",
    "    undropped_features = list(range(p))\n",
    "    dropped_features = []\n",
    "    rss_list = []\n",
    "    H = X.dot(np.linalg.inv(X.T.dot(X))).dot(X.T)\n",
    "    y_hat = H.dot(y)\n",
    "    rss = (y - y_hat).dot(y - y_hat)\n",
    "    rss_list.append(rss)\n",
    "\n",
    "    for i in range(p-1):\n",
    "        drop_feature, dRSS = backward_step(X, y, undropped_features, verbose_level)\n",
    "        move_feature(undropped_features, dropped_features, drop_feature)\n",
    "\n",
    "        rss_list.append(rss_list[-1]+dRSS)\n",
    "    return rss_list, dropped_features"
   ]
  },
  {
   "cell_type": "code",
   "execution_count": 7,
   "metadata": {
    "scrolled": true
   },
   "outputs": [],
   "source": [
    "rss_list, dropped_features = backward_stepwise_regression(X, y, beta, verbose_level=1)"
   ]
  },
  {
   "cell_type": "code",
   "execution_count": 8,
   "metadata": {},
   "outputs": [
    {
     "data": {
      "text/plain": [
       "[28, 11, 7, 17, 39, 20, 24, 29, 4, 45]"
      ]
     },
     "execution_count": 8,
     "metadata": {},
     "output_type": "execute_result"
    }
   ],
   "source": [
    "dropped_features[:10]"
   ]
  },
  {
   "cell_type": "code",
   "execution_count": 11,
   "metadata": {},
   "outputs": [
    {
     "data": {
      "text/plain": [
       "array([  0.27,   0.  ,   0.  ,  -1.46,   0.  ,   1.92,   0.  ,   0.  ,\n",
       "         0.  ,   0.  ,   0.  ,   0.  ,  -0.64,   0.  ,  -0.87,   1.47,\n",
       "        -2.45,   0.  ,   0.82,   0.  ,   0.  ,   0.  ,  -1.99,  -0.95,\n",
       "         0.  ,   2.26,   0.  ,   2.52,   0.18,   2.22,   0.5 ,   2.92,\n",
       "        -4.28,  -1.23,   5.63,  -5.73,  -4.97,  -4.52,  -3.73,  -6.97,\n",
       "        -1.48,  -5.32,  -3.77,  -6.74,   7.01,   6.13,   8.87, -11.2 ,\n",
       "       -11.85])"
      ]
     },
     "execution_count": 11,
     "metadata": {},
     "output_type": "execute_result"
    }
   ],
   "source": [
    "beta[dropped_features]"
   ]
  },
  {
   "cell_type": "code",
   "execution_count": 9,
   "metadata": {},
   "outputs": [
    {
     "data": {
      "text/plain": [
       "Text(0.5, 0, 'number of dropped features')"
      ]
     },
     "execution_count": 9,
     "metadata": {},
     "output_type": "execute_result"
    },
    {
     "data": {
      "image/png": "[encoded data removed]",
      "text/plain": [
       "<Figure size 576x576 with 1 Axes>"
      ]
     },
     "metadata": {
      "needs_background": "light"
     },
     "output_type": "display_data"
    }
   ],
   "source": [
    "plt.figure(figsize=(8,8))\n",
    "plt.scatter(range(len(rss_list)), rss_list)\n",
    "plt.ylabel('RSS', fontsize=24)\n",
    "plt.xlabel('number of dropped features', fontsize=24)"
   ]
  }
 ],
 "metadata": {
  "kernelspec": {
   "display_name": "Python 3",
   "language": "python",
   "name": "python3"
  },
  "language_info": {
   "codemirror_mode": {
    "name": "ipython",
    "version": 3
   },
   "file_extension": ".py",
   "mimetype": "text/x-python",
   "name": "python",
   "nbconvert_exporter": "python",
   "pygments_lexer": "ipython3",
   "version": "3.7.4"
  }
 },
 "nbformat": 4,
 "nbformat_minor": 2
}
